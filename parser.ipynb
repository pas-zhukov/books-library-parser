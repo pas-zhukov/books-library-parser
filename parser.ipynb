{
 "cells": [
  {
   "cell_type": "code",
   "execution_count": 29,
   "metadata": {
    "collapsed": true,
    "ExecuteTime": {
     "end_time": "2023-06-25T19:11:35.906165500Z",
     "start_time": "2023-06-25T19:11:35.511807700Z"
    }
   },
   "outputs": [
    {
     "data": {
      "text/plain": "('Административные рынки СССР и России', 'Кордонский Симон')"
     },
     "execution_count": 29,
     "metadata": {},
     "output_type": "execute_result"
    }
   ],
   "source": [
    "from bs4 import BeautifulSoup\n",
    "import requests\n",
    "\n",
    "url = f'https://tululu.org/b1'\n",
    "\n",
    "response = requests.get(url)\n",
    "html = response.text\n",
    "title = BeautifulSoup(html, 'lxml').find('h1').get_text().split(\"::\")[0].strip()\n",
    "author = BeautifulSoup(html, 'lxml').find('h1').find('a').get_text()\n",
    "title, author"
   ]
  },
  {
   "cell_type": "code",
   "execution_count": 31,
   "outputs": [
    {
     "data": {
      "text/plain": "'Алиби'"
     },
     "execution_count": 31,
     "metadata": {},
     "output_type": "execute_result"
    }
   ],
   "source": [
    "from pathvalidate import sanitize_filename\n",
    "\n",
    "sanitize_filename('Али\\\\би')"
   ],
   "metadata": {
    "collapsed": false,
    "ExecuteTime": {
     "end_time": "2023-06-25T19:15:47.191371800Z",
     "start_time": "2023-06-25T19:15:47.177359500Z"
    }
   }
  },
  {
   "cell_type": "code",
   "execution_count": null,
   "outputs": [],
   "source": [],
   "metadata": {
    "collapsed": false
   }
  }
 ],
 "metadata": {
  "kernelspec": {
   "display_name": "Python 3",
   "language": "python",
   "name": "python3"
  },
  "language_info": {
   "codemirror_mode": {
    "name": "ipython",
    "version": 2
   },
   "file_extension": ".py",
   "mimetype": "text/x-python",
   "name": "python",
   "nbconvert_exporter": "python",
   "pygments_lexer": "ipython2",
   "version": "2.7.6"
  }
 },
 "nbformat": 4,
 "nbformat_minor": 0
}
