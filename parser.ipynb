{
 "cells": [
  {
   "cell_type": "code",
   "execution_count": 1,
   "metadata": {
    "collapsed": true,
    "ExecuteTime": {
     "end_time": "2023-06-26T16:01:33.699655100Z",
     "start_time": "2023-06-26T16:01:33.201200700Z"
    }
   },
   "outputs": [
    {
     "data": {
      "text/plain": "('Административные рынки СССР и России', 'Кордонский Симон')"
     },
     "execution_count": 1,
     "metadata": {},
     "output_type": "execute_result"
    }
   ],
   "source": [
    "from bs4 import BeautifulSoup\n",
    "import requests\n",
    "\n",
    "url = f'https://tululu.org/b1'\n",
    "\n",
    "response = requests.get(url)\n",
    "html = response.text\n",
    "title = BeautifulSoup(html, 'lxml').find('h1').get_text().split(\"::\")[0].strip()\n",
    "author = BeautifulSoup(html, 'lxml').find('h1').find('a').get_text()\n",
    "title, author"
   ]
  },
  {
   "cell_type": "code",
   "execution_count": 2,
   "outputs": [
    {
     "data": {
      "text/plain": "'Алиби'"
     },
     "execution_count": 2,
     "metadata": {},
     "output_type": "execute_result"
    }
   ],
   "source": [
    "from pathvalidate import sanitize_filename\n",
    "\n",
    "sanitize_filename('Али\\\\би')"
   ],
   "metadata": {
    "collapsed": false,
    "ExecuteTime": {
     "end_time": "2023-06-26T16:01:34.238159100Z",
     "start_time": "2023-06-26T16:01:34.232153300Z"
    }
   }
  },
  {
   "cell_type": "code",
   "execution_count": 3,
   "outputs": [
    {
     "data": {
      "text/plain": "  0%|          | 0/99 [00:00<?, ?it/s]",
      "application/vnd.jupyter.widget-view+json": {
       "version_major": 2,
       "version_minor": 0,
       "model_id": "326b250776914556a39585e7735ee943"
      }
     },
     "metadata": {},
     "output_type": "display_data"
    }
   ],
   "source": [],
   "metadata": {
    "collapsed": false,
    "ExecuteTime": {
     "end_time": "2023-06-26T16:02:03.039154400Z",
     "start_time": "2023-06-26T16:01:35.228060Z"
    }
   }
  }
 ],
 "metadata": {
  "kernelspec": {
   "display_name": "Python 3",
   "language": "python",
   "name": "python3"
  },
  "language_info": {
   "codemirror_mode": {
    "name": "ipython",
    "version": 2
   },
   "file_extension": ".py",
   "mimetype": "text/x-python",
   "name": "python",
   "nbconvert_exporter": "python",
   "pygments_lexer": "ipython2",
   "version": "2.7.6"
  }
 },
 "nbformat": 4,
 "nbformat_minor": 0
}
